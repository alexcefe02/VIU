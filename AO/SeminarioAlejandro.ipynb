{
 "cells": [
  {
   "attachments": {
    "image.png": {
     "image/png": "[encoded data removed]"
    }
   },
   "cell_type": "markdown",
   "metadata": {
    "id": "hVbXYX-RfPWh"
   },
   "source": [
    "# Algoritmos de optimización - Seminario<br>\n",
    "Nombre y Apellidos: Alejandro Casado Figueredo  <br>\n",
    "Url: https://github.com/alexcefe02/VIU/blob/99a84a1c51ed18ca33359d5ac5081470d91e49ae/AO/SeminarioAlejandro.ipynb<br>\n",
    "Problema:\n",
    "> 1. Sesiones de doblaje <br>\n",
    "\n",
    "Descripción del problema:\n",
    "\n",
    "Se precisa coordinar el doblaje de una película. Los actores del doblaje deben coincidir en las\n",
    "tomas en las que sus personajes aparecen juntos en las diferentes tomas. Los actores de\n",
    "doblaje cobran todos la misma cantidad por cada día que deben desplazarse hasta el estudio de\n",
    "grabación independientemente del número de tomas que se graben. No es posible grabar más\n",
    "de 6 tomas por día. El objetivo es planificar las sesiones por día de manera que el gasto por los\n",
    "servicios de los actores de doblaje sea el menor posible. Los datos son:\n",
    "\n",
    "    Número de actores: 10\n",
    "    Número de tomas : 30\n",
    "\n",
    "![image.png](attachment:image.png)\n",
    "\n",
    "        - 1 indica que el actor participa en la toma\n",
    "        - 0 en caso contrario\n",
    "\n",
    "\n",
    "\n",
    "\n",
    "                                        "
   ]
  },
  {
   "cell_type": "markdown",
   "metadata": {},
   "source": [
    "Nuestra estrategia se fundamentará en un Greedy con minimización de costes, la cual está caracterizada por:\n",
    "\n",
    "- Tomamos la lista de 30 tomas junto a su matriz de participación 30x10.\n",
    "- En cada paso / iteración creamos un nuevo día, agregamos tomas al día mientras no pasemos el máximo (6) y nos centremos en minimizar los actores requeridos\n",
    "- Repetimos la jugada hasta acabar con la asignación de tomas"
   ]
  },
  {
   "cell_type": "code",
   "execution_count": 419,
   "metadata": {},
   "outputs": [
    {
     "name": "stdout",
     "output_type": "stream",
     "text": [
      "Distribución de las tomas por día, siendo 6 las tomas que se realizan cada día:\n",
      "\n",
      "Tomas del día 1: [18 (2 actores), 16 (2 actores), 22 (2 actores), 13 (3 actores), 17 (2 actores), 23 (2 actores)]\n",
      "Tomas del día 2: [26 (2 actores), 1 (3 actores), 12 (3 actores), 19 (4 actores), 27 (2 actores), 29 (2 actores)]\n",
      "Tomas del día 3: [20 (2 actores), 4 (3 actores), 7 (3 actores), 8 (3 actores), 3 (4 actores), 14 (3 actores)]\n",
      "Tomas del día 4: [15 (2 actores), 24 (4 actores), 5 (4 actores), 6 (4 actores), 0 (5 actores), 21 (4 actores)]\n",
      "Tomas del día 5: [28 (3 actores), 2 (3 actores), 9 (4 actores), 25 (4 actores), 10 (5 actores), 11 (5 actores)]\n",
      "\n",
      "Total días-actor, es decir, el coste total de la distribucion: 28\n"
     ]
    }
   ],
   "source": [
    "# Importamos toda la documentación necesaria\n",
    "import numpy as np\n",
    "import pandas as pd\n",
    "import random\n",
    "from os import path as osp\n",
    "\n",
    "# Cargamos nuestro dataset (matriz tomas x actores)\n",
    "ruta_archivo = osp.join(\"Matriz.csv\")\n",
    "df = pd.read_csv(ruta_archivo, sep=',', header=1, index_col=0, engine='python')\n",
    "\n",
    "# Esta matriz la trataremos como un array(numpy) y eliminaremos las columnas innecesarias\n",
    "df = df.iloc[:-2, :-2]\n",
    "sesiones = np.array(df)\n",
    "\n",
    "def organizar_sesiones(sesiones):\n",
    "    \"\"\"\n",
    "    Organiza las tomas en días. Cada día incluye hasta 6 tomas, intentando \n",
    "    minimizar el número total de actores requeridos.\n",
    "    \n",
    "    Parámetro:\n",
    "    - sesiones: matriz binaria donde [i,j] = 1 si el actor j participa en la toma i.\n",
    "    \n",
    "    Devuelve:\n",
    "    - Lista de listas, donde cada sublista representa las tomas de un día.\n",
    "    \"\"\"\n",
    "    dias = []\n",
    "    num_tomas = sesiones.shape[0]\n",
    "    sin_asignar = set(range(num_tomas))\n",
    "    \n",
    "\n",
    "    while sin_asignar:\n",
    "        # Elegimos la toma con menor número de actores como semilla del día\n",
    "        cuenta_actores_por_toma = {toma: np.sum(sesiones[toma]) for toma in sin_asignar}\n",
    "        minimo_actores = min(cuenta_actores_por_toma.values())\n",
    "        candidatas = [toma for toma, cuenta in cuenta_actores_por_toma.items() if cuenta == minimo_actores]\n",
    "        toma_semilla = np.random.choice(candidatas)\n",
    "\n",
    "        tomas_del_dia = [toma_semilla]\n",
    "        sin_asignar.remove(toma_semilla)\n",
    "\n",
    "        # Inicializamos el conjunto de actores del día\n",
    "        actores_del_dia = set(np.where(sesiones[toma_semilla] == 1)[0])\n",
    "\n",
    "        # Añadimos hasta 5 tomas adicionales al día (máximo 6 tomas por día)\n",
    "        for _ in range(5):\n",
    "            mejor_toma = None\n",
    "            menor_incremento = None\n",
    "\n",
    "            for toma in sin_asignar:\n",
    "                actores_en_toma = set(np.where(sesiones[toma] == 1)[0])\n",
    "                # Calculamos cuántos actores nuevos se incorporarían con esta toma\n",
    "                incremento = len(actores_del_dia | actores_en_toma) - len(actores_del_dia)\n",
    "\n",
    "                if mejor_toma is None or incremento < menor_incremento:\n",
    "                    mejor_toma = toma\n",
    "                    menor_incremento = incremento\n",
    "\n",
    "            # Elegimos la toma que menor número de actores nuevos aporta\n",
    "            if mejor_toma is not None:\n",
    "                tomas_del_dia.append(mejor_toma)\n",
    "                actores_del_dia |= set(np.where(sesiones[mejor_toma] == 1)[0])\n",
    "                sin_asignar.remove(mejor_toma)\n",
    "            \n",
    "            # En caso de no poder agregar más tomas, abandonamos el bucle\n",
    "            else:\n",
    "                break\n",
    "\n",
    "        dias.append(tomas_del_dia)\n",
    "    return dias\n",
    "\n",
    "def calcular_coste(dias, sesiones):\n",
    "    \"\"\"\n",
    "    Calcula el número total de días-actor requeridos.\n",
    "    Es decir, suma cuántos actores trabajan cada día.\n",
    "    Esto equivaldria a ser el coste final.\n",
    "\n",
    "    Parámetros:\n",
    "    - dias: lista de listas de tomas agrupadas por día\n",
    "    - sesiones: matriz binaria de tomas x actores\n",
    "\n",
    "    Retorna:\n",
    "    - Entero con el total de días-actor (coste)\n",
    "    \"\"\"\n",
    "    total_actor_dias = 0\n",
    "    dia = 0\n",
    "    for tomas_del_dia in dias:\n",
    "        actores = set()\n",
    "        for toma in tomas_del_dia:\n",
    "            actores |= set(np.where(sesiones[toma] == 1)[0]) # Unión de actores del día\n",
    "        total_actor_dias += len(actores)\n",
    "        dia += 1\n",
    "    return total_actor_dias\n",
    "\n",
    "\n",
    "# Inicializamos el mejor coste muy alto, para poder comparar\n",
    "total_actor_dias = 99999\n",
    "mejor_distribucion = []\n",
    "\n",
    "print('Distribución de las tomas por día, siendo 6 las tomas que se realizan cada día:')\n",
    "print()\n",
    "\n",
    "# Ejecutamos el algoritmo 1000 veces con distintas semillas aleatorias\n",
    "for intento in range(1000):\n",
    "    dias_temp = organizar_sesiones(sesiones)\n",
    "    coste_temp = calcular_coste(dias_temp, sesiones)\n",
    "\n",
    "    # Nos quedamos con la mejor distribución encontrada\n",
    "    if coste_temp < total_actor_dias:\n",
    "        total_actor_dias = coste_temp\n",
    "        mejor_distribucion = dias_temp\n",
    "\n",
    "# Bloque de impresión. Mostramos la mejor forma de distribuir las tomas\n",
    "dia = 1\n",
    "for tomas_del_dia in mejor_distribucion:\n",
    "    descripciones = []\n",
    "    for toma in tomas_del_dia:\n",
    "        num_actores = int(np.sum(sesiones[toma])) # Numero de actores que hay en la toma\n",
    "        descripciones.append(f\"{toma} ({num_actores} actores)\") # Damos formato a la futura impresión -> toma (X actores)\n",
    "    print(f\"Tomas del día {dia}: [{', '.join(descripciones)}]\") # Imprimimos las tomas de un día dentro del bucle for, así se imprimirá iterativamente cada uno de los días\n",
    "    dia += 1\n",
    "print()\n",
    "print(\"Total días-actor, es decir, el coste total de la distribucion:\", total_actor_dias) # Total del coste"
   ]
  },
  {
   "cell_type": "markdown",
   "metadata": {
    "id": "3_-exlrTgLd-"
   },
   "source": [
    "#### (*)¿Cuantas posibilidades hay sin tener en cuenta las restricciones?<br>\n",
    "\n",
    "\n"
   ]
  },
  {
   "cell_type": "markdown",
   "metadata": {},
   "source": [
    "Estamos dividiendo 30 tomas en 5 grupos de 6 tomas cada uno, donde:\n",
    "\n",
    "- No importa el orden de los grupos\n",
    "\n",
    "- No importa el orden de las tomas dentro de cada grupo\n",
    "\n",
    "Este es un clásico problema de partición de un conjunto en subconjuntos del mismo tamaño, y el número total de combinaciones posibles es:\n",
    "\n",
    "Total de particiones = 30!/((6!^5)*5!) ≈ **7.9 * 10^15**\n",
    "\n",
    "Es un número extremadamente alto, y eso es por que sin restricciones se comprueban todas las posibilidades, incluso las que se sabe que no son óptimas, y es gracias a las restricciones que se acotan las posibilidades.\n",
    "La solución más óptima posible se encuentra en esta casuística, la cual es **llevar a todos los actores a hacer todas las tomas en un mismo día** por lo que solo tendría un coste 10 (pagar únicamente a cada actor por presentarse allí)\n",
    "\n",
    "​\n"
   ]
  },
  {
   "cell_type": "markdown",
   "metadata": {},
   "source": [
    "#### ¿Cuantas posibilidades hay teniendo en cuenta todas las restricciones?\n"
   ]
  },
  {
   "cell_type": "markdown",
   "metadata": {},
   "source": [
    "Esto implica contar solo las combinaciones de agrupaciones de tomas en días que:\n",
    "\n",
    "- No asignen más de 6 tomas a un mismo día\n",
    "\n",
    "- Sean completas: todas las 30 tomas deben ser asignadas a algún día\n",
    "\n",
    "- Pueden tener menos de 6 tomas si no forzamos el máximo\n",
    "\n",
    "- Cumplen con las restricciones implícitas de coste: minimizar días-actor\n",
    "\n",
    "- No hay tomas simultáneas: cada toma ocurre en un único día\n",
    "\n",
    "- No se permiten repeticiones ni omisiones\n",
    "\n",
    "A diferencia del caso anterior, tenemos un **espacio de posibilidades más acotado**, lo cuál nos ayudará a encontrar alguna solución más rápido.\n",
    "\n",
    "En nuestro caso con el algoritmo heurístico (greedy) encontramos una buena solución (aunque no sabemos si la más óptima, pues recorrer todo el espacio de soluciones es inviable computacionalmente hablando)\n",
    "la cual asume un coste aproximado entre 26 y 34. Como ya hemos dicho, la más óptima se encuentra en la casuística anterior, pero aquí si que se encontraran la gran mayoría de soluciones viables para el problema."
   ]
  },
  {
   "cell_type": "markdown",
   "metadata": {
    "id": "dzynfVJahHoY"
   },
   "source": [
    "Modelo para el espacio de soluciones<br>\n",
    "\n",
    "#### (*) ¿Cual es la estructura de datos que mejor se adapta al problema? Argumentalo.(Es posible que hayas elegido una al principio y veas la necesidad de cambiar, argumentalo)\n"
   ]
  },
  {
   "cell_type": "markdown",
   "metadata": {},
   "source": [
    "Debido a la complejidad del problema, hemos utilizado más de un tipo de estructura para el mismo:\n",
    "\n",
    "- Para los datos de entrada hemos empleado un **numpy.array**, el cual nos ayudaba pues debido a su formato, cada columna es un actor y cada fila una toma. Además, podemos marcar como 1 si el actor participa y como 0 si no participa, lo cual son valores binarios muy útiles para matrices de este tipo. Además de esto, la librería numpy y sus matrices nos permiten realizar una gran cantidad de operaciones para solucionar el problema como:\n",
    "\n",
    "    - np.sum\n",
    "    - np.where\n",
    "\n",
    "- En cuanto a la representación de la solución hemos optado por una **lista de listas**, básicamente una lista. Esta nos ayuda bastante pues agrupa las tomas en días según la solución candidata, y al igual que la matriz tenemos varias opciones dentro de la estructura. Cada sublista representa un día, y cada uno de los elementos de una sublista es el índice de una toma. Además, son estructuras muy naturales de tratar e imprimir, y nos facilita mucho el cálculo del coste final del problema"
   ]
  },
  {
   "cell_type": "markdown",
   "metadata": {
    "id": "7Z9U2W7bi-XS"
   },
   "source": [
    "Según el modelo para el espacio de soluciones<br>\n",
    "\n",
    "#### (*)¿Cual es la función objetivo?"
   ]
  },
  {
   "cell_type": "markdown",
   "metadata": {},
   "source": [
    "La función objetivo en este problema es: **Minimizar el número total de días-actor (el coste)**\n",
    "\n",
    "Cada vez que un actor tiene que ir al estudio a grabar al menos una toma en un día, cuenta como 1 día-actor, sin importar cuántas tomas grabe ese día. Por tanto, cuantos más actores haya que mover cada día, mayor será el coste total.\n",
    "\n",
    "Esto se representa en nuestro código con la función **calcular_coste**, la cual:\n",
    "- Suma, para cada día, el número de actores distintos que participan.\n",
    "- Devuelve el total, que es el coste en días-actor.\n",
    "\n",
    "Además, por ello se ha afirmado que el mejor caso (utópico pues sin retricciones obligatorias) sería que todos los actores grabaran en un solo día todas las tomas, por lo que el coste sería 10 (1 por cada desplazamiento de actor), y no 27, como nos resulta en el mejor caso con nuestro greedy."
   ]
  },
  {
   "cell_type": "markdown",
   "metadata": {},
   "source": [
    "#### (*)¿Es un problema de maximización o minimización?"
   ]
  },
  {
   "cell_type": "markdown",
   "metadata": {},
   "source": [
    "Se trata de un problema de **minimización**, pues nuestro objetivo detrás del mismo es minimizar el coste (desplazamientos de actores por día) en base a unas restricciones impuestas.\n",
    "\n",
    "Si fuera de maximizacion estaríamos hablando, por ejemplo, de intentar expandir esas toma en cada día (+6 tomas) o expandir esos días de grabación (1 toma por dia, para que sean 30 días)."
   ]
  },
  {
   "cell_type": "markdown",
   "metadata": {
    "id": "rlnTYgY1j6I2"
   },
   "source": [
    "Diseña un algoritmo para resolver el problema por fuerza bruta"
   ]
  },
  {
   "cell_type": "code",
   "execution_count": null,
   "metadata": {},
   "outputs": [
    {
     "ename": "KeyboardInterrupt",
     "evalue": "",
     "output_type": "error",
     "traceback": [
      "\u001b[1;31m---------------------------------------------------------------------------\u001b[0m",
      "\u001b[1;31mKeyboardInterrupt\u001b[0m                         Traceback (most recent call last)",
      "Cell \u001b[1;32mIn[37], line 57\u001b[0m\n\u001b[0;32m     54\u001b[0m     \u001b[38;5;28;01mreturn\u001b[39;00m mejor_distribucion, mejor_coste\n\u001b[0;32m     56\u001b[0m \u001b[38;5;66;03m# Ejecución\u001b[39;00m\n\u001b[1;32m---> 57\u001b[0m mejor_distribucion, mejor_coste \u001b[38;5;241m=\u001b[39m fuerza_bruta(sesiones)\n\u001b[0;32m     59\u001b[0m \u001b[38;5;66;03m# Mostrar resultados\u001b[39;00m\n\u001b[0;32m     60\u001b[0m \u001b[38;5;28mprint\u001b[39m(\u001b[38;5;124m\"\u001b[39m\u001b[38;5;124mMejor distribución (por fuerza bruta):\u001b[39m\u001b[38;5;124m\"\u001b[39m)\n",
      "Cell \u001b[1;32mIn[37], line 49\u001b[0m, in \u001b[0;36mfuerza_bruta\u001b[1;34m(sesiones)\u001b[0m\n\u001b[0;32m     46\u001b[0m                 \u001b[38;5;28;01myield from\u001b[39;00m generar_particiones(resto, actual \u001b[38;5;241m+\u001b[39m [\u001b[38;5;28mlist\u001b[39m(grupo)])\n\u001b[0;32m     48\u001b[0m \u001b[38;5;28;01mfor\u001b[39;00m distribucion \u001b[38;5;129;01min\u001b[39;00m generar_particiones(indices):\n\u001b[1;32m---> 49\u001b[0m     coste \u001b[38;5;241m=\u001b[39m calcular_coste(distribucion, sesiones)\n\u001b[0;32m     50\u001b[0m     \u001b[38;5;28;01mif\u001b[39;00m coste \u001b[38;5;241m<\u001b[39m mejor_coste:\n\u001b[0;32m     51\u001b[0m         mejor_coste \u001b[38;5;241m=\u001b[39m coste\n",
      "Cell \u001b[1;32mIn[37], line 21\u001b[0m, in \u001b[0;36mcalcular_coste\u001b[1;34m(dias, sesiones)\u001b[0m\n\u001b[0;32m     19\u001b[0m     actores \u001b[38;5;241m=\u001b[39m \u001b[38;5;28mset\u001b[39m()\n\u001b[0;32m     20\u001b[0m     \u001b[38;5;28;01mfor\u001b[39;00m toma \u001b[38;5;129;01min\u001b[39;00m tomas_del_dia:\n\u001b[1;32m---> 21\u001b[0m         actores \u001b[38;5;241m|\u001b[39m\u001b[38;5;241m=\u001b[39m \u001b[38;5;28mset\u001b[39m(np\u001b[38;5;241m.\u001b[39mwhere(sesiones[toma] \u001b[38;5;241m==\u001b[39m \u001b[38;5;241m1\u001b[39m)[\u001b[38;5;241m0\u001b[39m])\n\u001b[0;32m     22\u001b[0m     total_actor_dias \u001b[38;5;241m+\u001b[39m\u001b[38;5;241m=\u001b[39m \u001b[38;5;28mlen\u001b[39m(actores)\n\u001b[0;32m     23\u001b[0m \u001b[38;5;28;01mreturn\u001b[39;00m total_actor_dias\n",
      "\u001b[1;31mKeyboardInterrupt\u001b[0m: "
     ]
    }
   ],
   "source": [
    "\"\"\"\"\"\n",
    "from itertools import combinations\n",
    "\n",
    "ruta_archivo = osp.join(\"Matriz.csv\")\n",
    "df = pd.read_csv(ruta_archivo, sep=',', header=1, index_col=0, engine='python')\n",
    "\n",
    "\n",
    "df = df.iloc[:-2, :-2]\n",
    "sesiones = np.array(df)\n",
    "\n",
    "def calcular_coste(dias, sesiones):\n",
    "\n",
    "    total_actor_dias = 0\n",
    "    for tomas_del_dia in dias:\n",
    "        actores = set()\n",
    "        for toma in tomas_del_dia:\n",
    "            actores |= set(np.where(sesiones[toma] == 1)[0])\n",
    "        total_actor_dias += len(actores)\n",
    "    return total_actor_dias\n",
    "\n",
    "def fuerza_bruta(sesiones):\n",
    "\n",
    "    from itertools import combinations\n",
    "\n",
    "    num_tomas = sesiones.shape[0]\n",
    "    indices = list(range(num_tomas))\n",
    "\n",
    "    mejor_coste = float('inf')\n",
    "    mejor_distribucion = None\n",
    "\n",
    "    def generar_particiones(tomas_restantes, actual=[]):\n",
    "        if not tomas_restantes:\n",
    "            yield actual\n",
    "        else:\n",
    "            for r in range(1, min(6, len(tomas_restantes)) + 1):\n",
    "                for grupo in combinations(tomas_restantes, r):\n",
    "                    resto = [t for t in tomas_restantes if t not in grupo]\n",
    "                    yield from generar_particiones(resto, actual + [list(grupo)])\n",
    "\n",
    "    for distribucion in generar_particiones(indices):\n",
    "        coste = calcular_coste(distribucion, sesiones)\n",
    "        if coste < mejor_coste:\n",
    "            mejor_coste = coste\n",
    "            mejor_distribucion = distribucion\n",
    "\n",
    "    return mejor_distribucion, mejor_coste\n",
    "\n",
    "mejor_distribucion, mejor_coste = fuerza_bruta(sesiones)\n",
    "\n",
    "print(\"Mejor distribución (por fuerza bruta):\")\n",
    "dia = 1\n",
    "for tomas in mejor_distribucion:\n",
    "    actores_dia = set()\n",
    "    for toma in tomas:\n",
    "        actores_dia |= set(np.where(sesiones[toma] == 1)[0])\n",
    "    print(f\"Día {dia}: Tomas {tomas} → Actores: {sorted(actores_dia)}\")\n",
    "    dia += 1\n",
    "print(\"\\nCoste total (días-actor):\", mejor_coste)\n",
    "\"\"\"\"\""
   ]
  },
  {
   "cell_type": "markdown",
   "metadata": {},
   "source": [
    "**COMO SE PUEDE COMPROBAR, NUESTRO PROBLEMA NO ES VIABLE REALIZARLO MEDIANTE FUERZA BRUTA, PUES EL PODER CÓMPUTO PARA EXPLORAR CADA POSIBLE INSTANCIA DE SOLUCIÓN DE NUESTRO ORDENADOR NO ES SUFICIENTE PARA LO QUE NOS SOLICITA. PROCEDEREMOS A PROBAR A REALIZAR ESTA MISMA TÁCTICA, PERO EN VEZ DE LEER NUESTRA MATRIZ DIA-ACTOR (30*10) LO HAREMOS CON UN EJEMPLO DE 7 TOMAS, QUE SI QUE ES VIABLE COMPUTACIONALMENTE.**"
   ]
  },
  {
   "cell_type": "code",
   "execution_count": 38,
   "metadata": {
    "id": "CJb5sQ0qkENy"
   },
   "outputs": [
    {
     "name": "stdout",
     "output_type": "stream",
     "text": [
      "Mejor distribución (por fuerza bruta):\n",
      "Día 1: Tomas [6] → Actores: [3]\n",
      "Día 2: Tomas [0, 1, 2, 3, 4, 5] → Actores: [0, 1, 2, 3, 4]\n",
      "\n",
      "Coste total (días-actor): 6\n"
     ]
    }
   ],
   "source": [
    "from itertools import combinations\n",
    "\n",
    "\"\"\"\"\"\n",
    "\n",
    "Como es computacionalmente inviable lo que se pide de realizar por fuerza bruta una solución para nuestro problema,\n",
    "se ha pensado en realizar esa misma táctica pero para una ejemplificación del problema en base a 7 tomas, lo cual nos\n",
    "sirve perfectamente para ver como sería el funcionamiento y los resultados.\n",
    "\n",
    "\"\"\"\"\"\n",
    "\n",
    "# Cada fila representa una toma, cada columna si un actor participa (1) o no (0)\n",
    "sesiones = np.array([\n",
    "    [1, 0, 1, 0, 1],  # Toma 0 -> Trabajan actor 1,3 y 5\n",
    "    [1, 1, 0, 0, 0],  # Toma 1 -> Trabajan actor 1 y 2\n",
    "    [0, 1, 1, 0, 0],  # Toma 2 -> Trabajan actor 2 y 3\n",
    "    [0, 0, 1, 1, 0],  # Toma 3 -> Trabajan actor 3 y 4\n",
    "    [1, 0, 0, 1, 1],  # Toma 4 -> Trabajan actor 1, 4 y 5\n",
    "    [0, 1, 0, 1, 1],  # Toma 5 -> Trabajan actor 2, 4 y 5\n",
    "    [0, 0, 0, 1, 0],  # Toma 6 -> Trabaja actor 4\n",
    "])\n",
    "\n",
    "def calcular_coste(dias, sesiones):\n",
    "    \"\"\"\n",
    "    Calcula el coste total en días-actor para una distribución dada de tomas.\n",
    "    'dias' es una lista de listas, cada sublista contiene índices de tomas en un día.\n",
    "    'sesiones' es una matriz numpy donde filas=tomas, columnas=actores (1 si actor participa).\n",
    "    \"\"\"\n",
    "    total_actor_dias = 0\n",
    "    for tomas_del_dia in dias:\n",
    "        actores = set()\n",
    "        for toma in tomas_del_dia:\n",
    "            actores |= set(np.where(sesiones[toma] == 1)[0])\n",
    "        total_actor_dias += len(actores)\n",
    "    return total_actor_dias\n",
    "\n",
    "def fuerza_bruta(sesiones):\n",
    "    \"\"\"\n",
    "    Busca la mejor distribución de tomas en días para minimizar el coste total usando fuerza bruta.\n",
    "    'sesiones' es la matriz numpy con tomas vs actores.\n",
    "    \"\"\"\n",
    "    from itertools import combinations\n",
    "\n",
    "    num_tomas = sesiones.shape[0]\n",
    "    indices = list(range(num_tomas))\n",
    "\n",
    "    mejor_coste = float('inf')\n",
    "    mejor_distribucion = None\n",
    "\n",
    "    # Generar todas las particiones posibles de 6 tomas en grupos de hasta 6\n",
    "    def generar_particiones(tomas_restantes, actual=[]):\n",
    "        if not tomas_restantes:\n",
    "            yield actual\n",
    "        else:\n",
    "            for r in range(1, min(6, len(tomas_restantes)) + 1):\n",
    "                for grupo in combinations(tomas_restantes, r):\n",
    "                    resto = [t for t in tomas_restantes if t not in grupo]\n",
    "                    yield from generar_particiones(resto, actual + [list(grupo)])\n",
    "\n",
    "    for distribucion in generar_particiones(indices):\n",
    "        coste = calcular_coste(distribucion, sesiones)\n",
    "        if coste < mejor_coste:\n",
    "            mejor_coste = coste\n",
    "            mejor_distribucion = distribucion\n",
    "\n",
    "    return mejor_distribucion, mejor_coste\n",
    "\n",
    "# Ejecución\n",
    "mejor_distribucion, mejor_coste = fuerza_bruta(sesiones)\n",
    "\n",
    "# Mostrar resultados\n",
    "print(\"Mejor distribución (por fuerza bruta):\")\n",
    "dia = 1\n",
    "for tomas in mejor_distribucion:\n",
    "    actores_dia = set()\n",
    "    for toma in tomas:\n",
    "        actores_dia |= set(np.where(sesiones[toma] == 1)[0])\n",
    "    print(f\"Día {dia}: Tomas {tomas} → Actores: {sorted(actores_dia)}\")\n",
    "    dia += 1\n",
    "print(\"\\nCoste total (días-actor):\", mejor_coste)"
   ]
  },
  {
   "cell_type": "markdown",
   "metadata": {},
   "source": [
    "Este enfoque es **útil para problemas muy pequeños o para validar soluciones de otros métodos.**\n",
    "Para casos reales (30 tomas, 10 actores), es necesario usar métodos heurísticos, metaheurísticas o algoritmos aproximados que reduzcan el espacio de búsqueda y ofrezcan soluciones cercanas al óptimo en tiempo razonable.\n",
    "\n"
   ]
  },
  {
   "cell_type": "markdown",
   "metadata": {
    "id": "tgrnsC2nkFa8"
   },
   "source": [
    "#### Calcula la complejidad del algoritmo por fuerza bruta"
   ]
  },
  {
   "cell_type": "markdown",
   "metadata": {},
   "source": [
    "El algoritmo genera todas las particiones posibles con grupos de tamaño entre 1 y 6 y para cada partición calcula el coste (sumando actores), y selecciona la mejor.\n",
    "\n",
    "- El número de particiones posibles de un conjunto se mide por el número de Bell, que crece muy rápido (superexponencial). Para un conjunto de tamaño n, el número de particiones es: **B(n).**\n",
    "- Aquí no es cualquier partición, sino particiones con grupos de tamaño máximo 6. Este es un subconjunto de todas las particiones, pero sigue siendo muy grande y crece muy rápido con n.\n",
    "- Generar todas estas particiones con el código recursivo que hace combinaciones de tamaños 1 a 6, es equivalente a enumerar todas las particiones restringidas, que sigue siendo exponencial en n.\n",
    "\n",
    "Ya que el crecimiento es superexponencial y además, en cada partición además se calcula el coste, la complejidad temporal resulta en: **O(B(n) x n)**, y como hemos podido comprobar, esta complejidad para valores medianamente altos como el de nuestro problema es INVIABLE."
   ]
  },
  {
   "cell_type": "markdown",
   "metadata": {
    "id": "txbrmLmskReM"
   },
   "source": [
    "#### (*)Diseña un algoritmo que mejore la complejidad del algortimo por fuerza bruta. Argumenta porque crees que mejora el algoritmo por fuerza bruta"
   ]
  },
  {
   "cell_type": "markdown",
   "metadata": {},
   "source": [
    "El algoritmo voraz (greedy) propuesto inicialmente mejora a este algoritmo por fueza bruta por los siguientes motivos expuestos en la comparación entre ambos:\n",
    "\n",
    "**Fuerza bruta:**\n",
    "- El algoritmo por fuerza bruta explora todas las particiones posibles de 30 tomas en días, donde cada día tiene un mínimo de 1 y un máximo de 6 tomas.\n",
    "- El número de particiones (particiones de conjunto con restricciones) es astronómico. En términos simples, el número de maneras de agrupar 𝑛 elementos en grupos de tamaño 6 es enorme, crece factorialmente o combinatoriamente de forma explosiva.\n",
    "- Esto implica que el tiempo de ejecución es impracticable para n=30.\n",
    "\n",
    "**Algoritmo propuesto:**\n",
    "- En cada iteración solo evalúa un subconjunto pequeño de posibilidades (por ejemplo, para elegir la siguiente toma, evalúa todas las tomas no asignadas, pero solo una toma se añade al día).\n",
    "- Por tanto, la complejidad está en el orden de iterar todas las tomas y para cada toma hacer un análisis de actores (algo en torno a O(n×m) donde n es número de tomas y m el número de actores).\n",
    "- No explora exhaustivamente todas las combinaciones, sino que construye una solución válida con heurística.\n",
    "\n",
    "Además, tras la ejecución en repetidas ocasiones de mi algoritmo probando la versión original de mínimo 1 toma y máximo 6, he llegado a la conclusión de que siempre me arrojaba los costes menores cuando el valor de tomas por día era **exactamente 6**. Por ello, ahorré aún más en cáculo computacional establendiendo que cada día tenía que tener 6 tomas exactamente (esto en parte es posible gracias a que 30 tomas son divisibles entre 5 días)\n",
    "\n",
    "\n",
    "En conclusión, se puede determinar que **en base a nuestro problema**, el cual encaja mayormenete con las características de un algoritmo voraz, es mucho mejor este pues el algoritmo por fuerza bruta es impoisble de realizar. Si en nuestro caso contaramos con una cantidad de tomas muy inferior, es probable que el algoritmo por fuerza bruta fuera el mejor, pues explora cada posibilidad, llegando al resultado **más optimo posible**"
   ]
  },
  {
   "cell_type": "markdown",
   "metadata": {
    "id": "eGDB4K6uk1iN"
   },
   "source": [
    "#### (*)Calcula la complejidad del algoritmo"
   ]
  },
  {
   "cell_type": "markdown",
   "metadata": {},
   "source": [
    "Para tratar la complejidad de mi algoritmo asumiremos que:\n",
    "\n",
    "    n = número de tomas (en tu caso 30)\n",
    "    m = número de actores (en tu caso 10)\n",
    "\n",
    "Teniendo en cuenta esto, trazaremos lo que necesita realizar mi algoritmo ara determinar su complejidad.\n",
    "\n",
    "Inicialmente, el conjunto sin_asignar contiene n tomas y el algoritmo itera creando \"días\" con hasta 6 tomas cada uno, por lo que el bucle principal se ejecuta aproximadamente n/6 veces.\n",
    "En cada iteración del bucle principal:\n",
    "1) Se calcula el número de actores por cada toma sin asignar:\n",
    "Esto implica sumar un vector de longitud m para cada una de las hasta n tomas.\n",
    "- Complejidad: O(n × m).\n",
    "\n",
    "2) Se selecciona la toma con el mínimo número de actores:\n",
    "- Complejidad: O(n).\n",
    "\n",
    "3) Se forma el conjunto de actores del día a partir de la toma semilla:\n",
    "- Complejidad: O(m).\n",
    "\n",
    "4) Se añaden hasta 5 tomas más al día, lo cual acaba siendo una suma constante (no altera la complejidad)\n",
    "\n",
    "Sumando los costos dentro del bucle O(n × m) + O(n × m) = O(n × m). (Complejidad si nuestra problema tuviera una iteración)\n",
    "\n",
    "Como el bucle principal se ejecuta aproximadamente n/6 veces, la complejidad total es:\n",
    "##### (n / 6) × O(n × m) = O(n² × m).\n",
    "\n",
    "Cumplimentando esta complejidad con nuestros datos (n = 30, m = 10): 30 * 30 ×10 = 900 × 10 = **9000 operaciones, muy inferior a la cifra superexponencial de la fuerza bruta**\n"
   ]
  },
  {
   "cell_type": "markdown",
   "metadata": {
    "id": "3M6QjTsSkmYe"
   },
   "source": [
    "#### Según el problema (y tenga sentido), diseña un juego de datos de entrada aleatorios"
   ]
  },
  {
   "cell_type": "code",
   "execution_count": 48,
   "metadata": {
    "id": "sJ-N2etjkyWc"
   },
   "outputs": [
    {
     "name": "stdout",
     "output_type": "stream",
     "text": [
      "Matriz tomas x actores (1 indica participación del actor en la toma):\n",
      "[[0 1 1 0 0 1 0 0 1 0]\n",
      " [1 0 0 1 0 1 0 1 0 0]\n",
      " [1 0 0 0 0 1 0 0 0 0]\n",
      " [1 1 0 0 0 0 1 0 0 1]\n",
      " [1 0 1 0 1 0 1 1 0 0]\n",
      " [1 0 0 0 0 0 0 0 0 0]\n",
      " [0 0 0 0 0 1 0 0 0 0]\n",
      " [0 1 0 0 1 0 1 0 0 0]\n",
      " [0 0 0 1 0 0 0 0 1 1]\n",
      " [0 0 1 1 0 1 0 1 1 0]\n",
      " [0 0 1 1 0 1 0 0 0 0]\n",
      " [0 1 1 0 0 0 0 0 1 1]\n",
      " [1 0 0 0 1 0 0 1 0 0]\n",
      " [1 0 1 0 0 1 0 1 0 1]\n",
      " [0 1 0 0 1 1 0 0 1 0]\n",
      " [0 0 1 0 0 1 0 0 1 1]\n",
      " [1 1 0 0 0 0 0 0 0 1]\n",
      " [1 1 0 0 0 0 1 0 0 1]\n",
      " [0 0 0 1 0 0 0 0 1 1]\n",
      " [0 0 1 0 1 1 1 1 0 0]\n",
      " [0 1 0 1 0 0 0 1 0 0]\n",
      " [1 0 0 0 1 0 0 0 1 1]\n",
      " [0 1 1 0 0 1 0 0 1 0]\n",
      " [0 1 0 1 0 0 0 1 0 1]\n",
      " [0 0 0 0 1 0 0 1 1 0]\n",
      " [0 0 0 0 1 0 1 0 1 0]\n",
      " [1 0 0 1 0 0 1 0 0 0]\n",
      " [0 1 1 0 0 1 0 1 0 0]\n",
      " [1 1 0 0 0 0 0 0 1 0]\n",
      " [0 0 1 1 0 0 0 1 0 1]]\n"
     ]
    }
   ],
   "source": [
    "import numpy as np\n",
    "\n",
    "def generar_sesiones_aleatorias(num_tomas, num_actores, prob_actor):\n",
    "    \"\"\"\n",
    "    Genera una matriz binaria de tomas x actores donde 1 indica\n",
    "    que el actor participa en la toma y 0 que no participa.\n",
    "\n",
    "    Parámetros:\n",
    "    - num_tomas: número total de tomas.\n",
    "    - num_actores: número total de actores.\n",
    "    - prob_actor: probabilidad de que un actor participe en una toma.\n",
    "\n",
    "    Devuelve:\n",
    "    - sesiones: numpy array de tamaño (num_tomas, num_actores)\n",
    "    \"\"\"\n",
    "    sesiones = np.random.rand(num_tomas, num_actores) < prob_actor\n",
    "    return sesiones.astype(int)\n",
    "\n",
    "# Ejemplo de uso\n",
    "sesiones_aleatorias = generar_sesiones_aleatorias(num_tomas=30, num_actores=10, prob_actor=0.4)\n",
    "\n",
    "print(\"Matriz tomas x actores (1 indica participación del actor en la toma):\")\n",
    "print(sesiones_aleatorias)"
   ]
  },
  {
   "cell_type": "markdown",
   "metadata": {
    "id": "zy5ZROmjlGo1"
   },
   "source": [
    "#### Aplica el algoritmo al juego de datos generado"
   ]
  },
  {
   "cell_type": "code",
   "execution_count": 416,
   "metadata": {
    "id": "Jkx8GeiYlUz1"
   },
   "outputs": [
    {
     "name": "stdout",
     "output_type": "stream",
     "text": [
      "Realizando siempre 6 tomas al día:\n",
      "Tomas del día 1: [23 (1 actores), 4 (1 actores), 8 (1 actores), 5 (3 actores), 0 (2 actores), 9 (4 actores)]\n",
      "Tomas del día 2: [13 (1 actores), 24 (2 actores), 1 (3 actores), 12 (3 actores), 14 (4 actores), 17 (3 actores)]\n",
      "Tomas del día 3: [18 (2 actores), 10 (2 actores), 7 (4 actores), 21 (4 actores), 11 (4 actores), 2 (5 actores)]\n",
      "Tomas del día 4: [26 (2 actores), 19 (3 actores), 28 (3 actores), 3 (5 actores), 6 (5 actores), 20 (4 actores)]\n",
      "Tomas del día 5: [29 (3 actores), 15 (4 actores), 22 (4 actores), 25 (4 actores), 16 (7 actores), 27 (5 actores)]\n",
      "\n",
      "Total días-actor, es decir, el coste total de la distribucion: 36\n"
     ]
    }
   ],
   "source": [
    "print('Realizando siempre 6 tomas al día:')\n",
    "\n",
    "sesiones = generar_sesiones_aleatorias(30, 10, 0.3133) # Ajustamos la probabilidad a 0.3133 pues es el valor más similar a la matriz de nuestro problema\n",
    "dias = organizar_sesiones(sesiones)\n",
    "coste = calcular_coste(dias,sesiones)\n",
    "\n",
    "\n",
    "# Reutilizamos nuestro código del algoritmo cambiando que las variables ahora se generan automñáticamente\n",
    "dia = 1\n",
    "for tomas_del_dia in dias:\n",
    "    descripciones = []\n",
    "    for toma in tomas_del_dia:\n",
    "        num_actores = int(np.sum(sesiones[toma])) # Numero de actores que hay en la toma\n",
    "        descripciones.append(f\"{toma} ({num_actores} actores)\") # Damos formato a la futura impresión -> toma (X actores)\n",
    "    print(f\"Tomas del día {dia}: [{', '.join(descripciones)}]\") # Imprimimos las tomas de un día dentro del bucle for, así se imprimirá iterativamente cada uno de los días\n",
    "    dia += 1\n",
    "\n",
    "print()\n",
    "print(\"Total días-actor, es decir, el coste total de la distribucion:\", coste) # Total del coste"
   ]
  },
  {
   "cell_type": "markdown",
   "metadata": {
    "id": "eTFWUJQrtGcv"
   },
   "source": [
    "#### Enumera las referencias que has utilizado(si ha sido necesario) para llevar a cabo el trabajo"
   ]
  },
  {
   "cell_type": "markdown",
   "metadata": {},
   "source": [
    "[1] Wikipedia, “Algoritmo Voraz” Wikipedia, La enciclopedia libre. [Online]. Available: https://es.wikipedia.org/wiki/Algoritmo_voraz\n",
    "\n",
    "[2] Wikipedia, \"Búsqueda de fuerza bruta\" Wikipedia, La enciclopedia libre. [Online] Available: https://es.wikipedia.org/wiki/B%C3%BAsqueda_de_fuerza_bruta"
   ]
  },
  {
   "cell_type": "markdown",
   "metadata": {
    "id": "kAkDPUyRtYyH"
   },
   "source": [
    "#### Describe brevemente las lineas de como crees que es posible avanzar en el estudio del problema. Ten en cuenta incluso posibles variaciones del problema y/o variaciones al alza del tamaño"
   ]
  },
  {
   "cell_type": "markdown",
   "metadata": {},
   "source": [
    "Algunas posibilidades en cuanto avance en el estudio de este problema, nos llevan a otros planteamientos distintos al que hemos tenido. Posiblemente estos deriven en búsqueda de infromación o prueba y error con otras soluciones propuestas que igual brindan algun aporte pero complican en algun aspecto el problema. Algunos planteamientos son:\n",
    "\n",
    "**Optimización mediante metaheurísticas o algoritmos aproximados**\n",
    "- Dado que la fuerza bruta es inviable para tamaños grandes, se puede explorar el uso de algoritmos heurísticos como Algoritmos Genéticos o Enfriamiento Simulado para encontrar soluciones buenas en tiempo razonable, especialmente con más tomas o actores.\n",
    "\n",
    "**Paralelización y procesamiento distribuido**\n",
    "- Para casos muy grandes, dividir la planificación en subproblemas que se resuelvan en paralelo o en clúster, reduciendo tiempos de cálculo.\n",
    "\n",
    "Por otro lado, también se puede analizar el problema como que creciera y se necesitaran algunas nuevas propiedades o estudios para poder determinar el crecimiento o análisis del mismo. Es probable que creiera hacia **mayores cantidades de datos, y por tanto de cálculo, restricciones dinámicas en función de la situación actual del problema o hacia la utilización de una potencia de cómputo mucho mayor que permitiera mas que lo empleado, como el uso de un ordenador cuántico para la resolución de este problema mediante fuerza bruta**\n",
    "\n",
    "\n"
   ]
  }
 ],
 "metadata": {
  "colab": {
   "provenance": [
    {
     "file_id": "1NVFHsnmrE-wFLX8y1SC3tKlh2et5FOz8",
     "timestamp": 1751624951294
    }
   ]
  },
  "kernelspec": {
   "display_name": "base",
   "language": "python",
   "name": "python3"
  },
  "language_info": {
   "codemirror_mode": {
    "name": "ipython",
    "version": 3
   },
   "file_extension": ".py",
   "mimetype": "text/x-python",
   "name": "python",
   "nbconvert_exporter": "python",
   "pygments_lexer": "ipython3",
   "version": "3.12.7"
  }
 },
 "nbformat": 4,
 "nbformat_minor": 0
}
