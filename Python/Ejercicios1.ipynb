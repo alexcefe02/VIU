{
  "cells": [
    {
      "cell_type": "markdown",
      "metadata": {},
      "source": [
        "## Ejercicio 1\n",
        "Escribe un programa que muestre por pantalla la concatenación de un número y una cadena de caracteres. Para obtener esta concatenación puedes usar uno de los operadores explicados en este tema. Ejemplo: dado el número 3 y la cadena 'abc', el programa mostrará la cadena '3abc'.\n"
      ]
    },
    {
      "cell_type": "code",
      "execution_count": 14,
      "metadata": {},
      "outputs": [
        {
          "name": "stdout",
          "output_type": "stream",
          "text": [
            "3abc\n"
          ]
        }
      ],
      "source": [
        "x = 3\n",
        "print(f\"{x}abc\")"
      ]
    },
    {
      "cell_type": "markdown",
      "metadata": {},
      "source": [
        "## Ejercicio 2\n",
        "Escribe un programa que muestre por pantalla un valor booleano que indique si un número entero N está contenido en un intervalo semiabierto [a,b), el cual establece una cota inferior a (inclusive) y una cota superior b (exclusive) para N.\n"
      ]
    },
    {
      "cell_type": "code",
      "execution_count": 19,
      "metadata": {},
      "outputs": [
        {
          "name": "stdout",
          "output_type": "stream",
          "text": [
            "False\n"
          ]
        }
      ],
      "source": [
        "def contenido(x,a,b):\n",
        "\n",
        "    if((x>=a) and (x<b)): return True\n",
        "    else: return False\n",
        "\n",
        "x = 15\n",
        "a = 1\n",
        "b = 10\n",
        "print(contenido(x,a,b))"
      ]
    },
    {
      "cell_type": "markdown",
      "metadata": {},
      "source": [
        "## Ejercicio 3\n",
        "Escribe un programa que, dado dos strings S1 y S2 y dos números enteros N1 y N2, determine si el substring que en S1 se extiende desde la posición N1 a la N2 (ambos inclusive) está contenido en S2.\n"
      ]
    },
    {
      "cell_type": "code",
      "execution_count": 27,
      "metadata": {},
      "outputs": [
        {
          "name": "stdout",
          "output_type": "stream",
          "text": [
            "True\n"
          ]
        }
      ],
      "source": [
        "def strcontenido(s1,s2,n1,n2):\n",
        "\n",
        "    substring = s1[n1:n2]\n",
        "    if substring in s2: return True\n",
        "    else: return False\n",
        "\n",
        "s1='aleju'\n",
        "s2='alejandro'\n",
        "n1=0\n",
        "n2=4\n",
        "\n",
        "print(strcontenido(s1,s2,n1,n2))\n"
      ]
    },
    {
      "cell_type": "markdown",
      "metadata": {},
      "source": [
        "## Ejercicio 4\n",
        "Dada una lista con elementos duplicados, escribir un programa que muestre una nueva lista con el mismo contenido que la primera pero sin elementos duplicados.\n"
      ]
    },
    {
      "cell_type": "code",
      "execution_count": 28,
      "metadata": {},
      "outputs": [
        {
          "name": "stdout",
          "output_type": "stream",
          "text": [
            "{1, 2, 3, 4, 5, 7}\n"
          ]
        }
      ],
      "source": [
        "lista = [1,2,3,3,3,4,5,5,7]\n",
        "\n",
        "print(set(lista))"
      ]
    },
    {
      "cell_type": "markdown",
      "metadata": {},
      "source": [
        "## Ejercicio 5\n",
        "Escribe un programa que, dada una lista de strings L, un string s perteneciente a L y un string t, reemplace s por t en L. El programa debe mostrar la lista resultante por pantalla.\n"
      ]
    },
    {
      "cell_type": "code",
      "execution_count": 43,
      "metadata": {},
      "outputs": [
        {
          "name": "stdout",
          "output_type": "stream",
          "text": [
            "['hugo', 'juan', 'pablo', 'tono']\n"
          ]
        }
      ],
      "source": [
        "L = [\"alex\",\"juan\",\"pablo\",\"tono\"]\n",
        "s = \"alex\"\n",
        "t = \"hugo\"\n",
        "\n",
        "def juegahugo(L,s,t):\n",
        "    L = [t if str == s else str for str in  L]\n",
        "    print(L)\n",
        "\n",
        "def juegaalex(L,s,t):\n",
        "    L = [\"alex\",\"juan\",\"pablo\",\"tono\"]\n",
        "    print(L)\n",
        "\n",
        "juegahugo(L,s,t)"
      ]
    },
    {
      "cell_type": "markdown",
      "metadata": {},
      "source": [
        "## Ejercicio 6\n",
        "Escribe un programa que defina una tupla con elementos numéricos, reemplace el valor del último por un valor diferente y muestre la tupla por pantalla. Recuerda que las tuplas son inmutables. Tendrás que usar objetos intermedios.\n"
      ]
    },
    {
      "cell_type": "code",
      "execution_count": 50,
      "metadata": {},
      "outputs": [
        {
          "name": "stdout",
          "output_type": "stream",
          "text": [
            "(1, 2, 3)\n"
          ]
        }
      ],
      "source": [
        "mytupla = (1,2,4)\n",
        "listaaux = list(mytupla)\n",
        "listaaux[2] = 3\n",
        "mytupla = tuple(listaaux)\n",
        "\n",
        "print(mytupla)"
      ]
    },
    {
      "cell_type": "markdown",
      "metadata": {},
      "source": [
        "## Ejercicio 7\n",
        "Dada la lista [1,2,3,4,5,6,7,8] escribe un programa que, a partir de esta lista, obtenga la lista [8,6,4,2] y la muestre por pantalla.\n"
      ]
    },
    {
      "cell_type": "code",
      "execution_count": 58,
      "metadata": {},
      "outputs": [
        {
          "name": "stdout",
          "output_type": "stream",
          "text": [
            "[8, 6, 4, 2]\n"
          ]
        }
      ],
      "source": [
        "lista7 = [1,2,3,4,5,6,7,8]\n",
        "\n",
        "def paresinvertidos(lista7):\n",
        "    lista7.reverse()\n",
        "    for int in lista7:\n",
        "        if int % 2 == 0: pass\n",
        "        else: lista7.remove(int)\n",
        "\n",
        "paresinvertidos(lista7)\n",
        "print(lista7)"
      ]
    },
    {
      "cell_type": "markdown",
      "metadata": {},
      "source": [
        "## Ejercicio 8\n",
        "Escribe un programa que, dada una tupla y un índice válido i, elimine el elemento de la tupla que se encuentra en la posición i. Para este ejercicio sólo puedes usar objetos de tipo tupla. No puedes convertir la tupla a una lista, por ejemplo.\n"
      ]
    },
    {
      "cell_type": "code",
      "execution_count": 74,
      "metadata": {},
      "outputs": [
        {
          "name": "stdout",
          "output_type": "stream",
          "text": [
            "Tupla original: (10, 20, 30, 40, 50)\n",
            "Tupla modificada: (10, 20, 40, 50)\n"
          ]
        }
      ],
      "source": [
        "def eliminar_elemento_en_posicion(tupla, i):\n",
        "    if i < 0 or i >= len(tupla):\n",
        "        raise IndexError(\"Índice fuera de rango\")\n",
        "\n",
        "    # Concatenamos dos tuplas: una antes del índice y otra después\n",
        "    return tupla[:i] + tupla[i+1:]\n",
        "\n",
        "# Ejemplo de uso\n",
        "t = (10, 20, 30, 40, 50)\n",
        "indice = 2\n",
        "\n",
        "resultado = eliminar_elemento_en_posicion(t, indice)\n",
        "print(\"Tupla original:\", t)\n",
        "print(\"Tupla modificada:\", resultado)"
      ]
    },
    {
      "cell_type": "markdown",
      "metadata": {},
      "source": [
        "## Ejercicio 9\n",
        "Escribe un programa que obtenga la mediana de una lista de números. Recuerda que la mediana M de una lista de números L es el número que cumple la siguiente propiedad: la mitad de los números de L son superiores a M y la otra mitad son inferiores. Cuando el número de elementos de L es par, se puede considerar que hay dos medianas. No obstante, en este ejercicio consideraremos que únicamente existe una mediana.\n"
      ]
    },
    {
      "cell_type": "code",
      "execution_count": 93,
      "metadata": {},
      "outputs": [
        {
          "name": "stdout",
          "output_type": "stream",
          "text": [
            "la lista ordenada es:  [1, 1, 1, 2, 2, 3, 4, 4, 9]\n",
            "La mediana es:  2\n"
          ]
        }
      ],
      "source": [
        "def obtenermediana(lista9):\n",
        "     lista9.sort()\n",
        "     print(\"la lista ordenada es: \", lista9)\n",
        "     # lista9[:len(lista9)/2] + lista9[len(lista9)/2+1:]\n",
        "     valorcentral = lista9[int(len(lista9)//2)]\n",
        "     return valorcentral\n",
        "\n",
        "lista9 = [1,2,3,4,1,2,9,1,4]\n",
        "print(\"La mediana es: \",obtenermediana(lista9))\n"
      ]
    }
  ],
  "metadata": {
    "kernelspec": {
      "display_name": "base",
      "language": "python",
      "name": "python3"
    },
    "language_info": {
      "codemirror_mode": {
        "name": "ipython",
        "version": 3
      },
      "file_extension": ".py",
      "mimetype": "text/x-python",
      "name": "python",
      "nbconvert_exporter": "python",
      "pygments_lexer": "ipython3",
      "version": "3.12.7"
    }
  },
  "nbformat": 4,
  "nbformat_minor": 2
}
